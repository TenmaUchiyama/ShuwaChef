{
 "cells": [
  {
   "attachments": {},
   "cell_type": "markdown",
   "metadata": {},
   "source": [
    "# 1. Prepare your video dataset"
   ]
  },
  {
   "cell_type": "markdown",
   "metadata": {},
   "source": [
    "A video of a person performing sing language.\n",
    "```\n",
    "my_video_folder\n",
    "├───Hksl_bear\n",
    "│   ├───vid_01.mp4\n",
    "│   ├───vid_02.mp4\n",
    "│   ...\n",
    "├───Hksl_bicycle\n",
    "│   ├───vid_01.mp4\n",
    "│   ├───vid_02.mp4\n",
    "│   ...\n",
    "├───Hksl_carrot\n",
    "│   ...\n",
    "├───Hksl_chef\n",
    "│   ...\n",
    ".\n",
    ".\n",
    ".\n",
    "```"
   ]
  },
  {
   "attachments": {},
   "cell_type": "markdown",
   "metadata": {},
   "source": [
    "(or use our [hksl_jsl_skeletons.zip](https://storage.googleapis.com/bit-studio-static/jobs/shuwa/hksl_jsl_skeletons.zip) ,extract to root directory and skip to step 3)"
   ]
  },
  {
   "attachments": {},
   "cell_type": "markdown",
   "metadata": {},
   "source": [
    "# 2. Preprocess data for training."
   ]
  },
  {
   "attachments": {},
   "cell_type": "markdown",
   "metadata": {},
   "source": [
    "At root dir run  \n",
    "\n",
    "```\n",
    "python -m  scripts.video_to_skeleton my_video_folder skeleton_dir\n",
    "  \n",
    "```\n",
    "to create skeleton file for training.\n",
    "*** \n"
   ]
  },
  {
   "attachments": {},
   "cell_type": "markdown",
   "metadata": {},
   "source": [
    "# 3. Imports"
   ]
  },
  {
   "cell_type": "code",
   "execution_count": null,
   "metadata": {
    "ExecuteTime": {
     "end_time": "2022-11-29T07:30:36.843933Z",
     "start_time": "2022-11-29T07:30:36.798269Z"
    }
   },
   "outputs": [],
   "source": [
    "%load_ext autoreload\n",
    "%autoreload 2"
   ]
  },
  {
   "cell_type": "code",
   "execution_count": null,
   "metadata": {
    "ExecuteTime": {
     "end_time": "2022-11-29T07:30:40.635986Z",
     "start_time": "2022-11-29T07:30:36.964460Z"
    }
   },
   "outputs": [],
   "source": [
    "%%capture\n",
    "from tensorflow.keras import backend as K\n",
    "from tensorflow.keras.layers import *\n",
    "from tensorflow.keras.models import Model\n",
    "from tensorflow.keras.optimizers import *\n",
    "from tensorflow.keras.callbacks import *\n",
    "import tensorflow as tf\n",
    "import pickle\n",
    "import gin\n",
    "from tqdm import tqdm\n",
    "import gc\n",
    "from pathlib import Path\n",
    "import glob\n",
    "import cv2\n",
    "import matplotlib.pyplot as plt\n",
    "import os\n",
    "import random\n",
    "import math\n",
    "import numpy as np\n",
    "gin.enter_interactive_mode()\n"
   ]
  },
  {
   "cell_type": "code",
   "execution_count": null,
   "metadata": {
    "ExecuteTime": {
     "end_time": "2022-11-29T07:30:40.794948Z",
     "start_time": "2022-11-29T07:30:40.637985Z"
    }
   },
   "outputs": [],
   "source": [
    "# move to root dir.\n",
    "os.chdir(\"..\")\n",
    "os.getcwd()"
   ]
  },
  {
   "cell_type": "code",
   "execution_count": null,
   "metadata": {
    "ExecuteTime": {
     "end_time": "2022-11-29T07:56:32.503539Z",
     "start_time": "2022-11-29T07:56:32.328086Z"
    }
   },
   "outputs": [],
   "source": [
    "from modules import translator\n",
    "gin.parse_config_file('configs/translator_train.gin')\n",
    "gin.parse_config_file('configs/utils.gin')"
   ]
  },
  {
   "attachments": {},
   "cell_type": "markdown",
   "metadata": {},
   "source": [
    "# 4. Configs"
   ]
  },
  {
   "cell_type": "code",
   "execution_count": null,
   "metadata": {
    "ExecuteTime": {
     "end_time": "2022-11-29T07:54:49.870396Z",
     "start_time": "2022-11-29T07:54:49.719995Z"
    }
   },
   "outputs": [],
   "source": [
    "skeleton_dir = \"data/skeletons\"\n",
    "checkpoint = None #\"checkpoints/translator/2h20220915.h5\"\n",
    "target_epoch = 100\n",
    "steps_per_epoch = 500\n",
    "\n",
    "# online-hard-mining\n",
    "n_hards = 50"
   ]
  },
  {
   "attachments": {},
   "cell_type": "markdown",
   "metadata": {},
   "source": [
    "# 5. Update labels"
   ]
  },
  {
   "attachments": {},
   "cell_type": "markdown",
   "metadata": {},
   "source": [
    "*When training, we use predefined classes; however, in play mode, we use KNN.\n",
    "We chose this strategy since training directly on the feature head (with triplet loss or contrastive loss) gave us less robustness.*"
   ]
  },
  {
   "cell_type": "code",
   "execution_count": null,
   "metadata": {},
   "outputs": [],
   "source": [
    "h5_glosses = [p.stem for p in Path(skeleton_dir).glob(\"*.h5\")]\n",
    "LABELS = {}\n",
    "for i, g in enumerate(h5_glosses):\n",
    "    LABELS[g] = [i, g]\n",
    "N_CLASSES = len(LABELS.keys())\n",
    "print(\"N_CLASSES\", N_CLASSES)\n",
    "assert N_CLASSES > 1"
   ]
  },
  {
   "cell_type": "code",
   "execution_count": null,
   "metadata": {
    "ExecuteTime": {
     "end_time": "2022-11-29T07:56:28.043267Z",
     "start_time": "2022-11-29T07:56:27.891374Z"
    }
   },
   "outputs": [],
   "source": [
    "with open(\"configs/labels.gin\", \"w\") as f:\n",
    "    dump_dict = json.dumps(LABELS, indent=0,separators=(',', ':'))\n",
    "    f.writelines(f\"LABELS = {dump_dict}\\n\")    \n",
    "    f.writelines(f\"N_CLASSES = {N_CLASSES}\")"
   ]
  },
  {
   "cell_type": "code",
   "execution_count": null,
   "metadata": {},
   "outputs": [],
   "source": [
    "gin.parse_config_file('configs/translator_train.gin')\n",
    "gin.parse_config_file('configs/utils.gin')"
   ]
  },
  {
   "attachments": {},
   "cell_type": "markdown",
   "metadata": {},
   "source": [
    "# 6. Create model"
   ]
  },
  {
   "cell_type": "code",
   "execution_count": null,
   "metadata": {
    "ExecuteTime": {
     "end_time": "2022-11-29T07:56:35.727101Z",
     "start_time": "2022-11-29T07:56:34.740081Z"
    }
   },
   "outputs": [],
   "source": [
    "model = translator.get_model()\n",
    "batch_size = model.outputs[0].shape[0]\n",
    "n_feats = model.outputs[0].shape[1]\n",
    "n_classes = model.outputs[1].shape[1]\n",
    "print(\"batch_size:\", batch_size)\n",
    "print(\"n_feats:\", n_feats)\n",
    "print(\"n_classes:\", n_classes)"
   ]
  },
  {
   "cell_type": "code",
   "execution_count": null,
   "metadata": {
    "ExecuteTime": {
     "end_time": "2022-11-28T10:33:44.675561Z",
     "start_time": "2022-11-28T10:33:44.505361Z"
    }
   },
   "outputs": [],
   "source": [
    "if checkpoint is not None:\n",
    "    model.load_weights(checkpoint)"
   ]
  },
  {
   "attachments": {},
   "cell_type": "markdown",
   "metadata": {},
   "source": [
    "# 7. Data Generator"
   ]
  },
  {
   "cell_type": "code",
   "execution_count": null,
   "metadata": {
    "ExecuteTime": {
     "end_time": "2022-11-28T10:34:29.475955Z",
     "start_time": "2022-11-28T10:33:44.680546Z"
    },
    "code_folding": []
   },
   "outputs": [],
   "source": [
    "train_generator = translator.DataGenerator(skeleton_dir)"
   ]
  },
  {
   "cell_type": "code",
   "execution_count": null,
   "metadata": {
    "ExecuteTime": {
     "end_time": "2022-11-28T10:34:29.663800Z",
     "start_time": "2022-11-28T10:34:29.478951Z"
    }
   },
   "outputs": [],
   "source": [
    "assert len(train_generator.labels_dict) == N_CLASSES"
   ]
  },
  {
   "attachments": {},
   "cell_type": "markdown",
   "metadata": {},
   "source": [
    "# 8. Train"
   ]
  },
  {
   "cell_type": "code",
   "execution_count": null,
   "metadata": {
    "ExecuteTime": {
     "end_time": "2022-11-28T10:34:30.023097Z",
     "start_time": "2022-11-28T10:34:29.838801Z"
    }
   },
   "outputs": [],
   "source": [
    "optimizer = tf.optimizers.Adam(1e-3)\n",
    "\n",
    "acc_metrics = tf.keras.metrics.SparseCategoricalAccuracy()\n",
    "cce = tf.keras.losses.SparseCategoricalCrossentropy(\n",
    "    reduction=tf.keras.losses.Reduction.NONE, from_logits=True)"
   ]
  },
  {
   "cell_type": "code",
   "execution_count": null,
   "metadata": {
    "ExecuteTime": {
     "end_time": "2022-11-28T14:06:59.275690Z",
     "start_time": "2022-11-28T10:34:56.310835Z"
    },
    "scrolled": false
   },
   "outputs": [],
   "source": [
    "initial_epoch = 0\n",
    "hards = None\n",
    "\n",
    "\n",
    "@tf.function\n",
    "def custom_train_step(inputs, y_true):\n",
    "    with tf.GradientTape() as tape:\n",
    "        feats_pred, cls_pred = model(inputs, training=True)\n",
    "\n",
    "        cls_loss = cce(y_true, cls_pred)\n",
    "\n",
    "    grads = tape.gradient(cls_loss, model.trainable_weights)\n",
    "    optimizer.apply_gradients(zip(grads, model.trainable_weights))\n",
    "    acc_metrics.update_state(y_true, cls_pred)\n",
    "\n",
    "    return cls_loss\n",
    "\n",
    "\n",
    "for ep in range(initial_epoch, target_epoch):\n",
    "    acc_metrics.reset_states()\n",
    "    dh = display(\"\", display_id=True)\n",
    "\n",
    "    for step in range(steps_per_epoch):\n",
    "        inputs, y_true = train_generator.__getitem__(0, hards)\n",
    "        cls_loss = custom_train_step(inputs, y_true)\n",
    "        cls_loss_np = cls_loss.numpy()\n",
    "\n",
    "        # Online Hard Mining\n",
    "        hards_b = np.argsort(cls_loss_np)[-n_hards:]\n",
    "        hards = y_true[hards_b].squeeze().tolist()\n",
    "\n",
    "        dh.update(f\"epoch-{ep:02d} step-{step} cls_loss-{np.mean(cls_loss_np):.4f} acc-{acc_metrics.result().numpy():.4f}\")\n",
    "\n",
    "    if ep % 5 == 0:\n",
    "        filepath=f\"train_ckpts/{ep:02d}_{acc_metrics.result().numpy():.3f}.h5\"\n",
    "        model.save_weights(filepath)"
   ]
  }
 ],
 "metadata": {
  "kernelspec": {
   "display_name": "base",
   "language": "python",
   "name": "python3"
  },
  "language_info": {
   "codemirror_mode": {
    "name": "ipython",
    "version": 3
   },
   "file_extension": ".py",
   "mimetype": "text/x-python",
   "name": "python",
   "nbconvert_exporter": "python",
   "pygments_lexer": "ipython3",
   "version": "3.9.12 (main, Apr  4 2022, 05:22:27) [MSC v.1916 64 bit (AMD64)]"
  },
  "toc": {
   "base_numbering": 1,
   "nav_menu": {},
   "number_sections": true,
   "sideBar": true,
   "skip_h1_title": false,
   "title_cell": "Table of Contents",
   "title_sidebar": "Contents",
   "toc_cell": false,
   "toc_position": {
    "height": "calc(100% - 180px)",
    "left": "10px",
    "top": "150px",
    "width": "187.6px"
   },
   "toc_section_display": true,
   "toc_window_display": true
  },
  "varInspector": {
   "cols": {
    "lenName": 16,
    "lenType": 16,
    "lenVar": 40
   },
   "kernels_config": {
    "python": {
     "delete_cmd_postfix": "",
     "delete_cmd_prefix": "del ",
     "library": "var_list.py",
     "varRefreshCmd": "print(var_dic_list())"
    },
    "r": {
     "delete_cmd_postfix": ") ",
     "delete_cmd_prefix": "rm(",
     "library": "var_list.r",
     "varRefreshCmd": "cat(var_dic_list()) "
    }
   },
   "types_to_exclude": [
    "module",
    "function",
    "builtin_function_or_method",
    "instance",
    "_Feature"
   ],
   "window_display": false
  },
  "vscode": {
   "interpreter": {
    "hash": "67baf612cc14d90adda4270daaee707e3ca3fe5deb80383c911da636ab66eb3f"
   }
  }
 },
 "nbformat": 4,
 "nbformat_minor": 2
}
